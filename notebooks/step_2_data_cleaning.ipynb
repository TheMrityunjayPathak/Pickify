{
 "cells": [
  {
   "cell_type": "markdown",
   "id": "0",
   "metadata": {},
   "source": [
    "### Importing Libraries"
   ]
  },
  {
   "cell_type": "code",
   "execution_count": null,
   "id": "1",
   "metadata": {},
   "outputs": [],
   "source": [
    "import os\n",
    "import sys\n",
    "import numpy as np\n",
    "import pandas as pd"
   ]
  },
  {
   "cell_type": "markdown",
   "id": "2",
   "metadata": {},
   "source": [
    "### Adding `utils` directory to `PYTHONPATH`"
   ]
  },
  {
   "cell_type": "code",
   "execution_count": null,
   "id": "3",
   "metadata": {},
   "outputs": [],
   "source": [
    "sys.path.append(os.path.abspath(\"../utils\"))"
   ]
  },
  {
   "cell_type": "markdown",
   "id": "4",
   "metadata": {},
   "source": [
    "### Reading Merged Data"
   ]
  },
  {
   "cell_type": "code",
   "execution_count": null,
   "id": "5",
   "metadata": {},
   "outputs": [],
   "source": [
    "# Importing load_csv function from read_data module\n",
    "from read_data import load_csv"
   ]
  },
  {
   "cell_type": "code",
   "execution_count": null,
   "id": "6",
   "metadata": {},
   "outputs": [],
   "source": [
    "# Loading movies data\n",
    "merged_df = load_csv('clean_data', 'merged_data.csv')\n",
    "merged_df.head()"
   ]
  },
  {
   "cell_type": "markdown",
   "id": "7",
   "metadata": {},
   "source": [
    "### Summary of the DataFrame"
   ]
  },
  {
   "cell_type": "code",
   "execution_count": null,
   "id": "8",
   "metadata": {},
   "outputs": [],
   "source": [
    "# Importing dataframe_summary function from summary module\n",
    "from summary import dataframe_summary"
   ]
  },
  {
   "cell_type": "code",
   "execution_count": null,
   "id": "9",
   "metadata": {},
   "outputs": [],
   "source": [
    "# Printing the summary of merged dataframe\n",
    "dataframe_summary(merged_df)"
   ]
  },
  {
   "cell_type": "markdown",
   "id": "10",
   "metadata": {},
   "source": [
    "### Filtering Important Columns"
   ]
  },
  {
   "cell_type": "markdown",
   "id": "11",
   "metadata": {},
   "source": [
    "Since we're building a content based movie recommender system,\n",
    "<br>\n",
    "We need columns that provides meaningful information about the movies to generate recommendations.\n",
    "<br>\n",
    "After analyzing the data, I filtered some columns that are most relevant for this task.\n",
    "- `movie_id` : Uniquely identifies each movie (useful when building the web application for displaying the posters).\n",
    "- `title` : Name of the movie.\n",
    "- `overview` : A short summary of the movie.\n",
    "- `genres` : Lists the genres the movie belongs to (e.g., action, comedy, drama).\n",
    "- `keywords` : Key phrases associated with the movie (e.g., space travel, dystopia).\n",
    "- `cast` : The main actors in the movie.\n",
    "- `crew` : Details about people involved behind the scenes (e.g., directors, writers)."
   ]
  },
  {
   "cell_type": "code",
   "execution_count": null,
   "id": "12",
   "metadata": {},
   "outputs": [],
   "source": [
    "# Filtering important columns\n",
    "filtered_df = merged_df[['movie_id','title','overview','genres','keywords','cast','crew']]\n",
    "filtered_df.head()"
   ]
  }
 ],
 "metadata": {
  "kernelspec": {
   "display_name": "Python 3 (ipykernel)",
   "language": "python",
   "name": "python3"
  },
  "language_info": {
   "codemirror_mode": {
    "name": "ipython",
    "version": 3
   },
   "file_extension": ".py",
   "mimetype": "text/x-python",
   "name": "python",
   "nbconvert_exporter": "python",
   "pygments_lexer": "ipython3",
   "version": "3.13.0"
  }
 },
 "nbformat": 4,
 "nbformat_minor": 5
}
