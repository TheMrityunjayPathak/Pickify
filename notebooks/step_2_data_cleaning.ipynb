{
 "cells": [
  {
   "cell_type": "markdown",
   "id": "0",
   "metadata": {},
   "source": [
    "### Importing Libraries"
   ]
  },
  {
   "cell_type": "code",
   "execution_count": null,
   "id": "1",
   "metadata": {},
   "outputs": [],
   "source": [
    "import os\n",
    "import sys\n",
    "import numpy as np\n",
    "import pandas as pd"
   ]
  },
  {
   "cell_type": "markdown",
   "id": "2",
   "metadata": {},
   "source": [
    "### Adding `utils` directory to `PYTHONPATH`"
   ]
  },
  {
   "cell_type": "code",
   "execution_count": null,
   "id": "3",
   "metadata": {},
   "outputs": [],
   "source": [
    "sys.path.append(os.path.abspath(\"../utils\"))"
   ]
  },
  {
   "cell_type": "markdown",
   "id": "4",
   "metadata": {},
   "source": [
    "### Reading Merged Data"
   ]
  },
  {
   "cell_type": "code",
   "execution_count": null,
   "id": "5",
   "metadata": {},
   "outputs": [],
   "source": [
    "# Importing load_csv function from read_data module\n",
    "from read_data import load_csv"
   ]
  },
  {
   "cell_type": "code",
   "execution_count": null,
   "id": "6",
   "metadata": {},
   "outputs": [],
   "source": [
    "# Loading movies data\n",
    "merged_df = load_csv('clean_data', 'merged_data.csv')\n",
    "merged_df.head()"
   ]
  },
  {
   "cell_type": "markdown",
   "id": "7",
   "metadata": {},
   "source": [
    "### Summary of the DataFrame"
   ]
  },
  {
   "cell_type": "code",
   "execution_count": null,
   "id": "8",
   "metadata": {},
   "outputs": [],
   "source": [
    "# Importing dataframe_summary function from summary module\n",
    "from summary import dataframe_summary"
   ]
  },
  {
   "cell_type": "code",
   "execution_count": null,
   "id": "9",
   "metadata": {},
   "outputs": [],
   "source": [
    "# Printing the summary of merged dataframe\n",
    "dataframe_summary(merged_df)"
   ]
  },
  {
   "cell_type": "markdown",
   "id": "10",
   "metadata": {},
   "source": [
    "### Filtering Important Columns"
   ]
  },
  {
   "cell_type": "markdown",
   "id": "11",
   "metadata": {},
   "source": [
    "Since we're building a content based movie recommender system,\n",
    "<br>\n",
    "We need columns that provides meaningful information about the movies to generate recommendations.\n",
    "<br>\n",
    "After analyzing the data, I filtered some columns that are most relevant for this task.\n",
    "- `movie_id` : Uniquely identifies each movie (useful when building the web application for displaying the posters).\n",
    "- `title` : Name of the movie.\n",
    "- `overview` : A short summary of the movie.\n",
    "- `genres` : Lists the genres the movie belongs to (e.g., action, comedy, drama).\n",
    "- `keywords` : Key phrases associated with the movie (e.g., space travel, dystopia).\n",
    "- `cast` : The main actors in the movie.\n",
    "- `crew` : Details about people involved behind the scenes (e.g., directors, writers)."
   ]
  },
  {
   "cell_type": "code",
   "execution_count": null,
   "id": "12",
   "metadata": {},
   "outputs": [],
   "source": [
    "# Filtering important columns\n",
    "filtered_df = merged_df[['movie_id','title','overview','genres','keywords','cast','crew']]\n",
    "filtered_df.head()"
   ]
  },
  {
   "cell_type": "markdown",
   "id": "13",
   "metadata": {},
   "source": [
    "### Summary of Filtered DataFrame"
   ]
  },
  {
   "cell_type": "code",
   "execution_count": null,
   "id": "14",
   "metadata": {},
   "outputs": [],
   "source": [
    "# Importing dataframe_summary function from summary module\n",
    "from summary import dataframe_summary"
   ]
  },
  {
   "cell_type": "code",
   "execution_count": null,
   "id": "15",
   "metadata": {},
   "outputs": [],
   "source": [
    "# Printing the summary of filtered dataframe\n",
    "dataframe_summary(filtered_df)"
   ]
  },
  {
   "cell_type": "markdown",
   "id": "16",
   "metadata": {},
   "source": [
    "### Handling Null Values"
   ]
  },
  {
   "cell_type": "code",
   "execution_count": null,
   "id": "17",
   "metadata": {},
   "outputs": [],
   "source": [
    "# Since we only have a very small amount of null values in overview column,\n",
    "# and because our data is large enough we can drop those.\n",
    "filtered_df = filtered_df.dropna()"
   ]
  },
  {
   "cell_type": "code",
   "execution_count": null,
   "id": "18",
   "metadata": {},
   "outputs": [],
   "source": [
    "# Data after removing null values\n",
    "filtered_df.isna().sum()"
   ]
  },
  {
   "cell_type": "markdown",
   "id": "19",
   "metadata": {},
   "source": [
    "### Analyzing Data before Cleaning"
   ]
  },
  {
   "cell_type": "code",
   "execution_count": null,
   "id": "20",
   "metadata": {},
   "outputs": [],
   "source": [
    "# Top 5 Rows of Filtered Data\n",
    "filtered_df.head()"
   ]
  },
  {
   "cell_type": "markdown",
   "id": "21",
   "metadata": {},
   "source": [
    "We can start cleaning the data with these weird structured columns, but there is one problem.\n",
    "<br>\n",
    "These column have data in form of list of dictionaries but the list itself is a string.\n",
    "<br>\n",
    "And this is the problem with other columns too, so if we can come up with a solution it will be very helpful. \n",
    "\n",
    "```python\n",
    "'[\n",
    "  {\"id\": 28, \"name\": \"Action\"},\n",
    "  {\"id\": 12, \"name\": \"Adventure\"},\n",
    "  {\"id\": 14, \"name\": \"Fantasy\"},\n",
    "  {\"id\": 878, \"name\": \"Science Fiction\"}\n",
    "]'\n",
    "```"
   ]
  },
  {
   "cell_type": "code",
   "execution_count": null,
   "id": "22",
   "metadata": {},
   "outputs": [],
   "source": [
    "# Structure of the Data\n",
    "filtered_df['genres'][0]"
   ]
  },
  {
   "cell_type": "code",
   "execution_count": null,
   "id": "23",
   "metadata": {},
   "outputs": [],
   "source": [
    "# Type of the Data\n",
    "print(f'Type: {type(filtered_df['genres'][0])}')"
   ]
  },
  {
   "cell_type": "markdown",
   "id": "24",
   "metadata": {},
   "source": [
    "There is a module in Python named `ast` or `Abstract Syntax Trees`, which has a function `literal_eval`.\n",
    "<br>\n",
    "It takes a string as input that looks like a Python object (like a list, dictionary, etc.) and converts it into a real Python object."
   ]
  },
  {
   "cell_type": "code",
   "execution_count": null,
   "id": "25",
   "metadata": {},
   "outputs": [],
   "source": [
    "# Importing ast\n",
    "import ast"
   ]
  },
  {
   "cell_type": "code",
   "execution_count": null,
   "id": "26",
   "metadata": {},
   "outputs": [],
   "source": [
    "# It converts the string back into the real list of dictionaries object\n",
    "print(ast.literal_eval(filtered_df['genres'][0]))\n",
    "print()\n",
    "print(f'Type: {type(ast.literal_eval(filtered_df['genres'][0]))}')"
   ]
  },
  {
   "cell_type": "markdown",
   "id": "27",
   "metadata": {},
   "source": [
    "#### Cleaning `genres` Column"
   ]
  },
  {
   "cell_type": "code",
   "execution_count": null,
   "id": "28",
   "metadata": {},
   "outputs": [],
   "source": [
    "# Importing extract_genre function from get_genre module\n",
    "from get_genre import extract_genre"
   ]
  },
  {
   "cell_type": "code",
   "execution_count": null,
   "id": "29",
   "metadata": {},
   "outputs": [],
   "source": [
    "# Extracting genres of each Movie\n",
    "filtered_df['genres'] = filtered_df['genres'].apply(extract_genre)\n",
    "filtered_df.head()"
   ]
  },
  {
   "cell_type": "markdown",
   "id": "30",
   "metadata": {},
   "source": [
    "#### Cleaning `keywords` Column"
   ]
  },
  {
   "cell_type": "code",
   "execution_count": null,
   "id": "31",
   "metadata": {},
   "outputs": [],
   "source": [
    "# Since the structure of keywords column is exactly same as genres,\n",
    "# We can use the same function to clean keywords column too.\n",
    "# So we can just rename it and update the docstring to make it work for keywords column.\n",
    "filtered_df['keywords'][0]"
   ]
  },
  {
   "cell_type": "code",
   "execution_count": null,
   "id": "32",
   "metadata": {},
   "outputs": [],
   "source": [
    "# Importing extract_keyword function from get_keyword module\n",
    "from get_keyword import extract_keyword"
   ]
  },
  {
   "cell_type": "code",
   "execution_count": null,
   "id": "33",
   "metadata": {},
   "outputs": [],
   "source": [
    "# Extracting keywords of each Movie\n",
    "filtered_df['keywords'] = filtered_df['keywords'].apply(extract_keyword)\n",
    "filtered_df.head()"
   ]
  },
  {
   "cell_type": "markdown",
   "id": "34",
   "metadata": {},
   "source": [
    "#### Cleaning `cast` Column"
   ]
  },
  {
   "cell_type": "code",
   "execution_count": null,
   "id": "35",
   "metadata": {},
   "outputs": [],
   "source": [
    "# Since cast of a movie is very huge which includes lead actor/actress, supporting actor/actress, cameo, extras, etc.\n",
    "# We only extract the top 3 cast members and assign it as cast.\n",
    "filtered_df['cast'][0]"
   ]
  },
  {
   "cell_type": "code",
   "execution_count": null,
   "id": "36",
   "metadata": {},
   "outputs": [],
   "source": [
    "# Importing extract_cast function from get_cast module\n",
    "from get_cast import extract_cast"
   ]
  },
  {
   "cell_type": "code",
   "execution_count": null,
   "id": "37",
   "metadata": {},
   "outputs": [],
   "source": [
    "# Extracting top 3 cast members of each Movie\n",
    "filtered_df['cast'] = filtered_df['cast'].apply(extract_cast)\n",
    "filtered_df.head()"
   ]
  },
  {
   "cell_type": "markdown",
   "id": "38",
   "metadata": {},
   "source": [
    "#### Cleaning `crew` Column"
   ]
  },
  {
   "cell_type": "code",
   "execution_count": null,
   "id": "39",
   "metadata": {},
   "outputs": [],
   "source": [
    "# Crew of a movie can be very huge containing director, producer, writer, cameraman, sound designer, editor, etc.\n",
    "# We only fetch the name of director who directed the movie, as directors are the huge part of the movie hype and popularity.\n",
    "# Like James Cameron for Avatar and Christopher Nolan for Interstellar.\n",
    "# Because it can help recommend the movies of the same director.\n",
    "filtered_df['crew'][0]"
   ]
  },
  {
   "cell_type": "code",
   "execution_count": null,
   "id": "40",
   "metadata": {},
   "outputs": [],
   "source": [
    "# Importing extract_director function from get_director module\n",
    "from get_director import extract_director"
   ]
  },
  {
   "cell_type": "code",
   "execution_count": null,
   "id": "41",
   "metadata": {},
   "outputs": [],
   "source": [
    "# Extracting only directors from crew of each Movie\n",
    "filtered_df['crew'] = filtered_df['crew'].apply(extract_director)\n",
    "filtered_df.head()"
   ]
  },
  {
   "cell_type": "markdown",
   "id": "42",
   "metadata": {},
   "source": [
    "#### Cleaning `overview` Column"
   ]
  },
  {
   "cell_type": "code",
   "execution_count": null,
   "id": "43",
   "metadata": {},
   "outputs": [],
   "source": [
    "# As we can see, overview column is in string format,\n",
    "# and it can create problem when we try to create tags for each movie by combining all columns in one, because other columns are in list format,\n",
    "# So we will convert it into list format for easy handling.\n",
    "filtered_df['overview'][0]"
   ]
  },
  {
   "cell_type": "code",
   "execution_count": null,
   "id": "44",
   "metadata": {},
   "outputs": [],
   "source": [
    "# Converting overview column to list from string\n",
    "filtered_df['overview'] = filtered_df['overview'].apply(lambda x: x.split(' '))\n",
    "filtered_df.head()"
   ]
  },
  {
   "cell_type": "markdown",
   "id": "45",
   "metadata": {},
   "source": [
    "#### Removing Spaces between Words"
   ]
  },
  {
   "cell_type": "markdown",
   "id": "46",
   "metadata": {},
   "source": [
    "##### Problem with Spaces\n",
    "Let's suppose we have two directors in our data with similar names, like :\n",
    "- `Paul Thomas Anderson`\n",
    "- `Paul William Anderson`\n",
    "\n",
    "The model might get confused because \"`Paul`\" is a common part of both names.\n",
    "<br>\n",
    "The model might mistakenly think \"`Paul Thomas Anderson`\" and \"`Paul William Anderson`\" are the same person, leading to incorrect recommendations.\n",
    "<br>\n",
    "In this case, it might end up recommending movies directed by \"`Paul Thomas Anderson`\" to \"`Paul William Anderson`\",\n",
    "<br>\n",
    "Because the model may not be taking into account the full name, just the common term \"`Paul`\".\n",
    "\n",
    "<hr>\n",
    "\n",
    "##### After Removing Spaces\n",
    "If we remove the spaces, the model treats \"`PaulThomasAnderson`\" and \"`PaulWilliamAnderson`\" as single units, which can help avoid confusion.\n",
    "<br>\n",
    "The model will then know that \"`PaulThomasAnderson`\" is not the same as \"`PaulWilliamAnderson`\",\n",
    "<br>\n",
    "Because both are distinct tokens and \"`Thomas`\" and \"`William`\" are key differentiators."
   ]
  },
  {
   "cell_type": "code",
   "execution_count": null,
   "id": "47",
   "metadata": {},
   "outputs": [],
   "source": [
    "# Importing remove_spaces function from clean_text module\n",
    "from clean_text import remove_spaces"
   ]
  },
  {
   "cell_type": "code",
   "execution_count": null,
   "id": "48",
   "metadata": {},
   "outputs": [],
   "source": [
    "# Removing spaces between words from genres, keywords, cast and crew column\n",
    "filtered_df['genres'] = remove_spaces(filtered_df, 'genres')\n",
    "filtered_df['keywords'] = remove_spaces(filtered_df, 'keywords')\n",
    "filtered_df['cast'] = remove_spaces(filtered_df, 'cast')\n",
    "filtered_df['crew'] = remove_spaces(filtered_df, 'crew')"
   ]
  },
  {
   "cell_type": "code",
   "execution_count": null,
   "id": "49",
   "metadata": {},
   "outputs": [],
   "source": [
    "# Top 5 rows after removing spaces\n",
    "filtered_df.head()"
   ]
  }
 ],
 "metadata": {
  "kernelspec": {
   "display_name": "Python 3 (ipykernel)",
   "language": "python",
   "name": "python3"
  },
  "language_info": {
   "codemirror_mode": {
    "name": "ipython",
    "version": 3
   },
   "file_extension": ".py",
   "mimetype": "text/x-python",
   "name": "python",
   "nbconvert_exporter": "python",
   "pygments_lexer": "ipython3",
   "version": "3.13.0"
  }
 },
 "nbformat": 4,
 "nbformat_minor": 5
}
