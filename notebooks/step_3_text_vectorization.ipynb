{
 "cells": [
  {
   "cell_type": "markdown",
   "id": "0",
   "metadata": {},
   "source": [
    "### Importing Libraries"
   ]
  },
  {
   "cell_type": "code",
   "execution_count": null,
   "id": "1",
   "metadata": {},
   "outputs": [],
   "source": [
    "import os\n",
    "import sys\n",
    "import numpy as np\n",
    "import pandas as pd"
   ]
  },
  {
   "cell_type": "markdown",
   "id": "2",
   "metadata": {},
   "source": [
    "### Adding `utils` directory to `PYTHONPATH`"
   ]
  },
  {
   "cell_type": "code",
   "execution_count": null,
   "id": "3",
   "metadata": {},
   "outputs": [],
   "source": [
    "sys.path.append(os.path.abspath(\"../utils\"))"
   ]
  },
  {
   "cell_type": "markdown",
   "id": "4",
   "metadata": {},
   "source": [
    "### Reading Cleaned Data"
   ]
  },
  {
   "cell_type": "code",
   "execution_count": null,
   "id": "5",
   "metadata": {},
   "outputs": [],
   "source": [
    "# Importing load_csv function from read_data module\n",
    "from read_data import load_csv"
   ]
  },
  {
   "cell_type": "code",
   "execution_count": null,
   "id": "6",
   "metadata": {},
   "outputs": [],
   "source": [
    "# Loading cleaned data\n",
    "cleaned_df = load_csv('clean_data', 'cleaned_data.csv')\n",
    "cleaned_df.head()"
   ]
  },
  {
   "cell_type": "markdown",
   "id": "7",
   "metadata": {},
   "source": [
    "### Text Vectorization"
   ]
  },
  {
   "cell_type": "markdown",
   "id": "8",
   "metadata": {},
   "source": [
    "##### Vectorization\n",
    "- It is the process of converting text into numbers, specifically into vectors so that a computer can understand and work with them.\n",
    "- Computers don't understand text directly, they understand numbers.\n",
    "- So, before we feed text to a machine learning model, we need to turn our words into numerical form.\n",
    "- Imagine trying to train a model to detect whether a message is positive or negative.\n",
    "- If you just give it the sentence :\n",
    "> \"I love this movie!\"\n",
    "- The model doesn't know what \"love\" or \"movie\" means.\n",
    "- You need to translate those words into numbers.\n",
    "\n",
    "<hr>\n",
    "\n",
    "Let's suppose we have three sentences which we are going to convert into numbers.\n",
    "- `I love NLP`\n",
    "- `I love deep learning`\n",
    "- `NLP is fun`\n",
    "\n",
    "##### Step 1 : Build a Vocabulary (Unique Words)\n",
    "- From all 3 sentences, list every unique word :\n",
    "| Word         |\n",
    "|--------------|\n",
    "| I            |\n",
    "| love         |\n",
    "| NLP          |\n",
    "| deep         |\n",
    "| learning     |\n",
    "| is           |\n",
    "| fun          |\n",
    "\n",
    "- So the vocabulary size is 7.\n",
    "\n",
    "##### Step 2 : Bag of Words (BoW)\n",
    "Now we represent each sentence as a vector of word counts using the vocabulary above.\n",
    "| Sentence                 | I | love | NLP | deep | learning | is | fun |\n",
    "|--------------------------|---|------|-----|------|----------|----|-----|\n",
    "| I love NLP | 1 | 1 | 1   | 0    | 0        | 0  | 0   |\n",
    "| I love deep learning | 1 | 1    | 0   | 1    | 1        | 0  | 0   |\n",
    "| NLP is fun | 0 | 0    | 1   | 0    | 0        | 1  | 1   |\n",
    "\n",
    "- Each row = one sentence.\n",
    "- Each column = one word from the vocabulary.\n",
    "- Each cell = how many times that word appeared in that sentence.\n",
    "\n",
    "<hr>\n",
    "\n",
    "##### Stop Words\n",
    "- Stop words are the common, frequently occurring words in a language that don't carry much meaning on their own.\n",
    "- **Example** : `the`, `is`, `in`, `on`, `and`, `a`, `an`, `to`, `of`, `with`, `for`, `from`, `that`, `this`, `it`, etc.\n",
    "- They are often removed from text because:\n",
    "    - They don't help distinguish between documents/sentences.\n",
    "    - They add noise and increase vector size in models like Bag of Words (BoW).\n",
    "\n",
    "<hr>\n",
    "\n",
    "##### What is Stemming?\n",
    "- Stemming is the process of reducing a word to its base or root form (called the \"stem\").\n",
    "| Word | Stem |\n",
    "|:--:|:---:|\n",
    "| running | run |\n",
    "| runs | run |\n",
    "| runner | runner |\n",
    "| studied | studi |\n",
    "| studies |\tstudi |\n",
    "\n",
    "##### Problem with BoW without Stemming\n",
    "BoW treats every unique word as different, even if they are grammatically related. Like :\n",
    "1. `\"He is running in the park\"`\n",
    "2. `\"She runs every day\"`\n",
    "- Without stemming, `running` ≠ `runs`.\n",
    "- So BoW thinks these are completely different words, even though they refer to the same root concept: \"`run`\".\n",
    "\n",
    "##### BoW Matrix (Without Stemming)\n",
    "Vocabulary: `[\"he\", \"is\", \"running\", \"in\", \"the\", \"park\", \"she\", \"runs\", \"every\", \"day\"]`\n",
    "| Sentence          | he | is | running | in | the | park | she | runs | every | day |\n",
    "|-------------------|----|----|---------|----|-----|------|-----|------|-------|-----|\n",
    "| Sentence 1        | 1  | 1  | 1       | 1  | 1   | 1    | 0   | 0    | 0     | 0   |\n",
    "| Sentence 2        | 0  | 0  | 0       | 0  | 0   | 0    | 1   | 1    | 1     | 1   |\n",
    "\n",
    "These vectors are very different even though the meaning is similar.\n",
    "\n",
    "##### Benefit of Stemming\n",
    "Stemming reduces related words to their common root form, like :\n",
    "1. `running`, `runs`, `ran` → `run`\n",
    "2. `studies`, `studying`, `studied` → `studi`\n",
    "- Now BoW will group them together!\n",
    "\n",
    "##### BoW Matrix (With Stemming)\n",
    "New Vocabulary: `[\"he\", \"is\", \"run\", \"in\", \"the\", \"park\", \"she\", \"every\", \"day\"]`\n",
    "| Sentence          | he | is | run | in | the | park | she | every | day |\n",
    "|-------------------|----|----|-----|----|-----|------|-----|-------|-----|\n",
    "| Sentence 1        | 1  | 1  | 1   | 1  | 1   | 1    | 0   | 0     | 0   |\n",
    "| Sentence 2        | 0  | 0  | 1   | 0  | 0   | 0    | 1   | 1     | 1   |\n",
    "\n",
    "Now \"`running`\" and \"`runs`\" are treated the same as \"`run`\"."
   ]
  },
  {
   "cell_type": "code",
   "execution_count": null,
   "id": "9",
   "metadata": {},
   "outputs": [],
   "source": [
    "# Importing stem function from text_stemming module\n",
    "from text_stemming import stem"
   ]
  },
  {
   "cell_type": "code",
   "execution_count": null,
   "id": "10",
   "metadata": {},
   "outputs": [],
   "source": [
    "# Applying stemming on tags column\n",
    "cleaned_df['tags'] = cleaned_df['tags'].apply(stem)\n",
    "cleaned_df.head()"
   ]
  }
 ],
 "metadata": {
  "kernelspec": {
   "display_name": "Python 3 (ipykernel)",
   "language": "python",
   "name": "python3"
  },
  "language_info": {
   "codemirror_mode": {
    "name": "ipython",
    "version": 3
   },
   "file_extension": ".py",
   "mimetype": "text/x-python",
   "name": "python",
   "nbconvert_exporter": "python",
   "pygments_lexer": "ipython3",
   "version": "3.13.0"
  }
 },
 "nbformat": 4,
 "nbformat_minor": 5
}
